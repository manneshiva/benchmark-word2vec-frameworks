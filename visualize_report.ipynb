{
 "cells": [
  {
   "cell_type": "markdown",
   "metadata": {},
   "source": [
    "## Text8 Corpus "
   ]
  },
  {
   "cell_type": "markdown",
   "metadata": {},
   "source": [
    "The word vectors are trained using the text8 corpus. Each line consists of 10000 words"
   ]
  },
  {
   "cell_type": "markdown",
   "metadata": {},
   "source": [
    "# Run  Benchmark"
   ]
  },
  {
   "cell_type": "code",
   "execution_count": null,
   "metadata": {
    "ExecuteTime": {
     "end_time": "2017-09-19T13:09:39.955563Z",
     "start_time": "2017-09-19T13:09:39.037540Z"
    },
    "collapsed": true
   },
   "outputs": [],
   "source": [
    "# inside docker\n",
    "!python benchmark.py --frameworks dl4j tensorflow gensim originalc --fname /benmark_nn_frameworks/data/text8-split --epochs 4 --batch_size 32 --workers 7 --size 100 --platform local "
   ]
  },
  {
   "cell_type": "markdown",
   "metadata": {},
   "source": [
    "## Load Report File"
   ]
  },
  {
   "cell_type": "code",
   "execution_count": null,
   "metadata": {
    "ExecuteTime": {
     "end_time": "2017-09-19T13:12:15.345638Z",
     "start_time": "2017-09-19T13:12:15.187923Z"
    },
    "collapsed": true
   },
   "outputs": [],
   "source": [
    "import plotly.offline as py\n",
    "import plotly.graph_objs as go\n",
    "import json\n",
    "\n",
    "py.init_notebook_mode()\n",
    "with open('./local-report.json','r') as f:\n",
    "    report = json.loads(f.read())"
   ]
  },
  {
   "cell_type": "markdown",
   "metadata": {},
   "source": [
    "## System Information"
   ]
  },
  {
   "cell_type": "code",
   "execution_count": null,
   "metadata": {
    "ExecuteTime": {
     "end_time": "2017-09-19T13:12:15.758791Z",
     "start_time": "2017-09-19T13:12:15.755550Z"
    },
    "collapsed": true
   },
   "outputs": [],
   "source": [
    "print report['systeminfo']"
   ]
  },
  {
   "cell_type": "markdown",
   "metadata": {},
   "source": [
    "## Training Parameters"
   ]
  },
  {
   "cell_type": "code",
   "execution_count": null,
   "metadata": {
    "ExecuteTime": {
     "end_time": "2017-09-19T13:12:16.163210Z",
     "start_time": "2017-09-19T13:12:16.159408Z"
    },
    "collapsed": true
   },
   "outputs": [],
   "source": [
    "print json.dumps(report['trainingparams'], indent=2)"
   ]
  },
  {
   "cell_type": "markdown",
   "metadata": {},
   "source": [
    "### Platform"
   ]
  },
  {
   "cell_type": "code",
   "execution_count": null,
   "metadata": {
    "ExecuteTime": {
     "end_time": "2017-09-19T13:12:16.608074Z",
     "start_time": "2017-09-19T13:12:16.604836Z"
    },
    "collapsed": true
   },
   "outputs": [],
   "source": [
    "print report['platform']"
   ]
  },
  {
   "cell_type": "markdown",
   "metadata": {},
   "source": [
    "## Commands For Each Framework"
   ]
  },
  {
   "cell_type": "code",
   "execution_count": null,
   "metadata": {
    "ExecuteTime": {
     "end_time": "2017-09-19T13:12:17.067242Z",
     "start_time": "2017-09-19T13:12:17.059035Z"
    },
    "collapsed": true
   },
   "outputs": [],
   "source": [
    "print json.dumps(report['command'], indent=4)"
   ]
  },
  {
   "cell_type": "markdown",
   "metadata": {},
   "source": [
    "# Generate Graphics"
   ]
  },
  {
   "cell_type": "markdown",
   "metadata": {},
   "source": [
    "Time to train(in seconds) and peak memory(in MiB) results"
   ]
  },
  {
   "cell_type": "code",
   "execution_count": null,
   "metadata": {
    "ExecuteTime": {
     "end_time": "2017-09-19T13:12:18.630334Z",
     "start_time": "2017-09-19T13:12:18.619878Z"
    },
    "collapsed": true
   },
   "outputs": [],
   "source": [
    "x, y = zip(*report['time'].items())\n",
    "# y = [_ / 3600. for _ in y]  # re-scale to hours\n",
    "\n",
    "data = [go.Bar(x=x, y=y, orientation='v')]\n",
    "layout = go.Layout(\n",
    "    title='Time Report',\n",
    "    xaxis=dict(title='Framework'),\n",
    "    yaxis=dict(title='Training time (in seconds)'),\n",
    "    annotations=[\n",
    "        dict(\n",
    "            x=xi,y=yi,\n",
    "            text=str(yi),\n",
    "            xanchor='center',\n",
    "            yanchor='bottom',\n",
    "            showarrow=False,\n",
    "        ) \n",
    "        for xi, yi in zip(x, y)]\n",
    ")\n",
    "fig = dict(data=data, layout=layout)\n",
    "py.iplot(fig)  "
   ]
  },
  {
   "cell_type": "code",
   "execution_count": null,
   "metadata": {
    "ExecuteTime": {
     "end_time": "2017-09-19T13:12:19.890848Z",
     "start_time": "2017-09-19T13:12:19.875357Z"
    },
    "collapsed": true
   },
   "outputs": [],
   "source": [
    "x, y = zip(*report['memory'].items())\n",
    "\n",
    "data = [go.Bar(x=x, y=y, orientation='v')]\n",
    "layout = go.Layout(\n",
    "    title='Memory Report',\n",
    "    xaxis=dict(title='Framework'),\n",
    "    yaxis=dict(title='Peak memory (in MB)'),\n",
    "    annotations=[\n",
    "        dict(\n",
    "            x=xi,y=yi,\n",
    "            text=str(yi),\n",
    "            xanchor='center',\n",
    "            yanchor='bottom',\n",
    "            showarrow=False,\n",
    "        ) \n",
    "        for xi, yi in zip(x, y)]\n",
    ")\n",
    "fig = dict(data=data, layout=layout)\n",
    "py.iplot(fig)  "
   ]
  },
  {
   "cell_type": "markdown",
   "metadata": {},
   "source": [
    "Results of evaluation on the popular **Word Similarities** task. This task measures how well the notion of word similarity according to humans is captured by the word vector representations. Two lists are obtained by sorting the word pairs according to human similarity and vector-space similarity. Spearman’s correlation/rho between these\n",
    "ranked lists is the used to signify how well the vector space agrees with human judgement. "
   ]
  },
  {
   "cell_type": "code",
   "execution_count": null,
   "metadata": {
    "ExecuteTime": {
     "end_time": "2017-09-19T13:12:21.144662Z",
     "start_time": "2017-09-19T13:12:21.131988Z"
    },
    "collapsed": true
   },
   "outputs": [],
   "source": [
    "data = []\n",
    "for framework in report['frameworks']:\n",
    "    x, y = zip(*report['wordpairs'][framework])\n",
    "    trace = go.Bar(x=x, y=y, name=framework)\n",
    "    data.append(trace)\n",
    "\n",
    "layout = go.Layout(\n",
    "    title='Word Pairs Evaluation Report',\n",
    "    xaxis=dict(title='Dataset', tickangle=-45),\n",
    "    yaxis=dict(title='Spearman\\'s Rho'),\n",
    "    barmode = 'group'\n",
    ")\n",
    "fig = dict(data=data, layout=layout)\n",
    "py.iplot(fig) "
   ]
  },
  {
   "cell_type": "markdown",
   "metadata": {},
   "source": [
    "Results of evaluation on the popular **Word Analogy** task. The aim of this task is to find the missing word b' in the relation: a is to a' as b is to b'. In other words we look at the most similar word vector to b' (= a' + b - a) and compare it with the human analogy and report the accuracy. "
   ]
  },
  {
   "cell_type": "code",
   "execution_count": null,
   "metadata": {
    "ExecuteTime": {
     "end_time": "2017-09-19T13:12:23.168230Z",
     "start_time": "2017-09-19T13:12:23.159497Z"
    },
    "collapsed": true
   },
   "outputs": [],
   "source": [
    "data = []\n",
    "for framework in report['frameworks']:\n",
    "    x, y = zip(*report['qa'][framework])\n",
    "    trace = go.Bar(x=x, y=y, name=framework)\n",
    "    data.append(trace)\n",
    "\n",
    "layout = go.Layout(\n",
    "    title='Analogies Task(Questions&Answers) Report',\n",
    "    xaxis=dict(tickangle=-45),\n",
    "    yaxis=dict(title='Accuracy (in %)'),\n",
    "    barmode='group'\n",
    ")\n",
    "fig = dict(data=data, layout=layout)\n",
    "py.iplot(fig)  "
   ]
  },
  {
   "cell_type": "code",
   "execution_count": null,
   "metadata": {
    "collapsed": true
   },
   "outputs": [],
   "source": []
  }
 ],
 "metadata": {
  "kernelspec": {
   "display_name": "Python 2",
   "language": "python",
   "name": "python2"
  },
  "language_info": {
   "codemirror_mode": {
    "name": "ipython",
    "version": 2
   },
   "file_extension": ".py",
   "mimetype": "text/x-python",
   "name": "python",
   "nbconvert_exporter": "python",
   "pygments_lexer": "ipython2",
   "version": "2.7.12"
  }
 },
 "nbformat": 4,
 "nbformat_minor": 2
}
