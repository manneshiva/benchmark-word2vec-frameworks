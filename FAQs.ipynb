{
 "cells": [
  {
   "cell_type": "markdown",
   "metadata": {},
   "source": [
    "# FAQs"
   ]
  },
  {
   "cell_type": "markdown",
   "metadata": {},
   "source": [
    "### **Are the codes used for training word2vec on each framework the most optimized(in terms of memory usage and training time) ones?**\n",
    "\n",
    "The aim of this benchmark is to compare the most popularly and widely used codes for training word2vec and not necessarily the most optimized one. The code for training on each framework have been picked (and trivially modified in some cases) from the examples given in their respective offical github repositories. The code has also been reviewed by leading developers in each framework. Below are a few gitter chat snapshots and links for the same:\n",
    "\n",
    "**DL4J**\n",
    "![dl4j](FAQ-images/dl4j-1.bmp)\n",
    "![dl4j](FAQ-images/dl4j-2.bmp)\n",
    "\n",
    "\n",
    "**Tensorflow**\n",
    "\n",
    "https://github.com/tensorflow/tensorflow/issues/13048\n",
    "\n",
    "https://stackoverflow.com/questions/46227847/tensorflow-word2vec-gpu-slower-than-cpu\n",
    "\n",
    "https://groups.google.com/a/tensorflow.org/forum/#!topic/discuss/pkRRdxqThCI\n",
    "\n",
    "**Original C Code**\n",
    "\n",
    "This does not need any review as such since it only requires running an executable."
   ]
  },
  {
   "cell_type": "markdown",
   "metadata": {},
   "source": [
    "### Why isn't it possible to run word2vec on GPU using DL4J?\n",
    "\n",
    "![dl4j-noGPU](FAQ-images/dl4j-gpu.bmp)\n",
    "\n",
    "TL;DR : JVM Garbage Collector kills performance making it difficult to exploit GPU to speed up training."
   ]
  },
  {
   "cell_type": "markdown",
   "metadata": {},
   "source": [
    "### Why is tensorflow taking longer to run on GPU compared to CPU?\n",
    "\n",
    "https://github.com/tensorflow/tensorflow/issues/13048\n",
    "\n",
    "Here is a link to another blog which discusses and analyses why training word2vec on cpu is faster than gpu using keras with tensorflow/theano backends.\n",
    "\n",
    "https://rare-technologies.com/gensim-word2vec-on-cpu-faster-than-word2veckeras-on-gpu-incubator-student-blog/"
   ]
  },
  {
   "cell_type": "markdown",
   "metadata": {},
   "source": [
    "### Why doesn't the vocabulary size for DL4J match the vocabulary size for other frameworks?\n",
    "\n"
   ]
  },
  {
   "cell_type": "code",
   "execution_count": null,
   "metadata": {
    "collapsed": true
   },
   "outputs": [],
   "source": []
  },
  {
   "cell_type": "code",
   "execution_count": null,
   "metadata": {
    "collapsed": true
   },
   "outputs": [],
   "source": []
  }
 ],
 "metadata": {
  "kernelspec": {
   "display_name": "Python 2",
   "language": "python",
   "name": "python2"
  },
  "language_info": {
   "codemirror_mode": {
    "name": "ipython",
    "version": 2
   },
   "file_extension": ".py",
   "mimetype": "text/x-python",
   "name": "python",
   "nbconvert_exporter": "python",
   "pygments_lexer": "ipython2",
   "version": "2.7.12"
  }
 },
 "nbformat": 4,
 "nbformat_minor": 2
}
